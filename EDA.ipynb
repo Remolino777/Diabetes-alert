{
 "cells": [
  {
   "cell_type": "code",
   "execution_count": 38,
   "metadata": {},
   "outputs": [],
   "source": [
    "import pandas as pd\n",
    "import matplotlib.pyplot as plt\n",
    "import numpy as np\n",
    "import seaborn as sns"
   ]
  },
  {
   "cell_type": "code",
   "execution_count": 3,
   "metadata": {},
   "outputs": [],
   "source": [
    "df = pd.read_csv(r'D:\\0_Respaldo\\0_Proyectos_2024\\Diabetes alert\\dataset\\Diabetes Classification.csv', index_col=None)"
   ]
  },
  {
   "cell_type": "code",
   "execution_count": 4,
   "metadata": {},
   "outputs": [
    {
     "data": {
      "text/html": [
       "<div>\n",
       "<style scoped>\n",
       "    .dataframe tbody tr th:only-of-type {\n",
       "        vertical-align: middle;\n",
       "    }\n",
       "\n",
       "    .dataframe tbody tr th {\n",
       "        vertical-align: top;\n",
       "    }\n",
       "\n",
       "    .dataframe thead th {\n",
       "        text-align: right;\n",
       "    }\n",
       "</style>\n",
       "<table border=\"1\" class=\"dataframe\">\n",
       "  <thead>\n",
       "    <tr style=\"text-align: right;\">\n",
       "      <th></th>\n",
       "      <th>Unnamed: 0</th>\n",
       "      <th>Age</th>\n",
       "      <th>Gender</th>\n",
       "      <th>BMI</th>\n",
       "      <th>Chol</th>\n",
       "      <th>TG</th>\n",
       "      <th>HDL</th>\n",
       "      <th>LDL</th>\n",
       "      <th>Cr</th>\n",
       "      <th>BUN</th>\n",
       "      <th>Diagnosis</th>\n",
       "    </tr>\n",
       "  </thead>\n",
       "  <tbody>\n",
       "    <tr>\n",
       "      <th>2393</th>\n",
       "      <td>2393</td>\n",
       "      <td>41</td>\n",
       "      <td>M</td>\n",
       "      <td>23</td>\n",
       "      <td>5.19</td>\n",
       "      <td>1.99</td>\n",
       "      <td>1.30</td>\n",
       "      <td>2.94</td>\n",
       "      <td>67.2</td>\n",
       "      <td>4.20</td>\n",
       "      <td>0</td>\n",
       "    </tr>\n",
       "    <tr>\n",
       "      <th>4440</th>\n",
       "      <td>4440</td>\n",
       "      <td>53</td>\n",
       "      <td>F</td>\n",
       "      <td>23</td>\n",
       "      <td>4.92</td>\n",
       "      <td>1.47</td>\n",
       "      <td>1.05</td>\n",
       "      <td>2.93</td>\n",
       "      <td>54.0</td>\n",
       "      <td>3.39</td>\n",
       "      <td>1</td>\n",
       "    </tr>\n",
       "    <tr>\n",
       "      <th>508</th>\n",
       "      <td>508</td>\n",
       "      <td>55</td>\n",
       "      <td>M</td>\n",
       "      <td>28</td>\n",
       "      <td>4.90</td>\n",
       "      <td>2.10</td>\n",
       "      <td>1.10</td>\n",
       "      <td>2.50</td>\n",
       "      <td>56.0</td>\n",
       "      <td>4.40</td>\n",
       "      <td>1</td>\n",
       "    </tr>\n",
       "  </tbody>\n",
       "</table>\n",
       "</div>"
      ],
      "text/plain": [
       "      Unnamed: 0  Age Gender  BMI  Chol    TG   HDL   LDL    Cr   BUN  \\\n",
       "2393        2393   41      M   23  5.19  1.99  1.30  2.94  67.2  4.20   \n",
       "4440        4440   53      F   23  4.92  1.47  1.05  2.93  54.0  3.39   \n",
       "508          508   55      M   28  4.90  2.10  1.10  2.50  56.0  4.40   \n",
       "\n",
       "      Diagnosis  \n",
       "2393          0  \n",
       "4440          1  \n",
       "508           1  "
      ]
     },
     "execution_count": 4,
     "metadata": {},
     "output_type": "execute_result"
    }
   ],
   "source": [
    "df.sample(3)"
   ]
  },
  {
   "cell_type": "code",
   "execution_count": 5,
   "metadata": {},
   "outputs": [],
   "source": [
    "df = df.drop(['Unnamed: 0'], axis=1)"
   ]
  },
  {
   "cell_type": "code",
   "execution_count": 6,
   "metadata": {},
   "outputs": [
    {
     "data": {
      "text/html": [
       "<div>\n",
       "<style scoped>\n",
       "    .dataframe tbody tr th:only-of-type {\n",
       "        vertical-align: middle;\n",
       "    }\n",
       "\n",
       "    .dataframe tbody tr th {\n",
       "        vertical-align: top;\n",
       "    }\n",
       "\n",
       "    .dataframe thead th {\n",
       "        text-align: right;\n",
       "    }\n",
       "</style>\n",
       "<table border=\"1\" class=\"dataframe\">\n",
       "  <thead>\n",
       "    <tr style=\"text-align: right;\">\n",
       "      <th></th>\n",
       "      <th>Age</th>\n",
       "      <th>Gender</th>\n",
       "      <th>BMI</th>\n",
       "      <th>Chol</th>\n",
       "      <th>TG</th>\n",
       "      <th>HDL</th>\n",
       "      <th>LDL</th>\n",
       "      <th>Cr</th>\n",
       "      <th>BUN</th>\n",
       "      <th>Diagnosis</th>\n",
       "    </tr>\n",
       "  </thead>\n",
       "  <tbody>\n",
       "    <tr>\n",
       "      <th>0</th>\n",
       "      <td>50</td>\n",
       "      <td>F</td>\n",
       "      <td>24</td>\n",
       "      <td>4.20</td>\n",
       "      <td>0.90</td>\n",
       "      <td>2.40</td>\n",
       "      <td>1.40</td>\n",
       "      <td>46.0</td>\n",
       "      <td>4.70</td>\n",
       "      <td>0</td>\n",
       "    </tr>\n",
       "    <tr>\n",
       "      <th>1</th>\n",
       "      <td>26</td>\n",
       "      <td>M</td>\n",
       "      <td>23</td>\n",
       "      <td>3.70</td>\n",
       "      <td>1.40</td>\n",
       "      <td>1.10</td>\n",
       "      <td>2.10</td>\n",
       "      <td>62.0</td>\n",
       "      <td>4.50</td>\n",
       "      <td>0</td>\n",
       "    </tr>\n",
       "    <tr>\n",
       "      <th>2</th>\n",
       "      <td>33</td>\n",
       "      <td>M</td>\n",
       "      <td>21</td>\n",
       "      <td>4.90</td>\n",
       "      <td>1.00</td>\n",
       "      <td>0.80</td>\n",
       "      <td>2.00</td>\n",
       "      <td>46.0</td>\n",
       "      <td>7.10</td>\n",
       "      <td>0</td>\n",
       "    </tr>\n",
       "    <tr>\n",
       "      <th>3</th>\n",
       "      <td>45</td>\n",
       "      <td>F</td>\n",
       "      <td>21</td>\n",
       "      <td>2.90</td>\n",
       "      <td>1.00</td>\n",
       "      <td>1.00</td>\n",
       "      <td>1.50</td>\n",
       "      <td>24.0</td>\n",
       "      <td>2.30</td>\n",
       "      <td>0</td>\n",
       "    </tr>\n",
       "    <tr>\n",
       "      <th>4</th>\n",
       "      <td>50</td>\n",
       "      <td>F</td>\n",
       "      <td>24</td>\n",
       "      <td>3.60</td>\n",
       "      <td>1.30</td>\n",
       "      <td>0.90</td>\n",
       "      <td>2.10</td>\n",
       "      <td>50.0</td>\n",
       "      <td>2.00</td>\n",
       "      <td>0</td>\n",
       "    </tr>\n",
       "    <tr>\n",
       "      <th>...</th>\n",
       "      <td>...</td>\n",
       "      <td>...</td>\n",
       "      <td>...</td>\n",
       "      <td>...</td>\n",
       "      <td>...</td>\n",
       "      <td>...</td>\n",
       "      <td>...</td>\n",
       "      <td>...</td>\n",
       "      <td>...</td>\n",
       "      <td>...</td>\n",
       "    </tr>\n",
       "    <tr>\n",
       "      <th>5127</th>\n",
       "      <td>54</td>\n",
       "      <td>M</td>\n",
       "      <td>23</td>\n",
       "      <td>5.00</td>\n",
       "      <td>1.50</td>\n",
       "      <td>1.24</td>\n",
       "      <td>2.98</td>\n",
       "      <td>77.0</td>\n",
       "      <td>3.50</td>\n",
       "      <td>1</td>\n",
       "    </tr>\n",
       "    <tr>\n",
       "      <th>5128</th>\n",
       "      <td>50</td>\n",
       "      <td>F</td>\n",
       "      <td>22</td>\n",
       "      <td>4.37</td>\n",
       "      <td>2.09</td>\n",
       "      <td>1.37</td>\n",
       "      <td>2.29</td>\n",
       "      <td>47.3</td>\n",
       "      <td>4.40</td>\n",
       "      <td>1</td>\n",
       "    </tr>\n",
       "    <tr>\n",
       "      <th>5129</th>\n",
       "      <td>67</td>\n",
       "      <td>M</td>\n",
       "      <td>24</td>\n",
       "      <td>3.89</td>\n",
       "      <td>1.38</td>\n",
       "      <td>1.14</td>\n",
       "      <td>2.17</td>\n",
       "      <td>70.6</td>\n",
       "      <td>4.73</td>\n",
       "      <td>1</td>\n",
       "    </tr>\n",
       "    <tr>\n",
       "      <th>5130</th>\n",
       "      <td>60</td>\n",
       "      <td>F</td>\n",
       "      <td>29</td>\n",
       "      <td>5.91</td>\n",
       "      <td>1.29</td>\n",
       "      <td>1.73</td>\n",
       "      <td>2.85</td>\n",
       "      <td>50.2</td>\n",
       "      <td>7.33</td>\n",
       "      <td>1</td>\n",
       "    </tr>\n",
       "    <tr>\n",
       "      <th>5131</th>\n",
       "      <td>37</td>\n",
       "      <td>M</td>\n",
       "      <td>34</td>\n",
       "      <td>5.42</td>\n",
       "      <td>2.66</td>\n",
       "      <td>1.08</td>\n",
       "      <td>2.87</td>\n",
       "      <td>75.5</td>\n",
       "      <td>4.61</td>\n",
       "      <td>1</td>\n",
       "    </tr>\n",
       "  </tbody>\n",
       "</table>\n",
       "<p>5132 rows × 10 columns</p>\n",
       "</div>"
      ],
      "text/plain": [
       "      Age Gender  BMI  Chol    TG   HDL   LDL    Cr   BUN  Diagnosis\n",
       "0      50      F   24  4.20  0.90  2.40  1.40  46.0  4.70          0\n",
       "1      26      M   23  3.70  1.40  1.10  2.10  62.0  4.50          0\n",
       "2      33      M   21  4.90  1.00  0.80  2.00  46.0  7.10          0\n",
       "3      45      F   21  2.90  1.00  1.00  1.50  24.0  2.30          0\n",
       "4      50      F   24  3.60  1.30  0.90  2.10  50.0  2.00          0\n",
       "...   ...    ...  ...   ...   ...   ...   ...   ...   ...        ...\n",
       "5127   54      M   23  5.00  1.50  1.24  2.98  77.0  3.50          1\n",
       "5128   50      F   22  4.37  2.09  1.37  2.29  47.3  4.40          1\n",
       "5129   67      M   24  3.89  1.38  1.14  2.17  70.6  4.73          1\n",
       "5130   60      F   29  5.91  1.29  1.73  2.85  50.2  7.33          1\n",
       "5131   37      M   34  5.42  2.66  1.08  2.87  75.5  4.61          1\n",
       "\n",
       "[5132 rows x 10 columns]"
      ]
     },
     "execution_count": 6,
     "metadata": {},
     "output_type": "execute_result"
    }
   ],
   "source": [
    "df"
   ]
  },
  {
   "cell_type": "code",
   "execution_count": 7,
   "metadata": {},
   "outputs": [
    {
     "name": "stdout",
     "output_type": "stream",
     "text": [
      "<class 'pandas.core.frame.DataFrame'>\n",
      "RangeIndex: 5132 entries, 0 to 5131\n",
      "Data columns (total 10 columns):\n",
      " #   Column     Non-Null Count  Dtype  \n",
      "---  ------     --------------  -----  \n",
      " 0   Age        5132 non-null   int64  \n",
      " 1   Gender     5132 non-null   object \n",
      " 2   BMI        5132 non-null   int64  \n",
      " 3   Chol       5132 non-null   float64\n",
      " 4   TG         5132 non-null   float64\n",
      " 5   HDL        5132 non-null   float64\n",
      " 6   LDL        5132 non-null   float64\n",
      " 7   Cr         5132 non-null   float64\n",
      " 8   BUN        5132 non-null   float64\n",
      " 9   Diagnosis  5132 non-null   int64  \n",
      "dtypes: float64(6), int64(3), object(1)\n",
      "memory usage: 401.1+ KB\n"
     ]
    }
   ],
   "source": [
    "df.info()"
   ]
  },
  {
   "cell_type": "code",
   "execution_count": 8,
   "metadata": {},
   "outputs": [
    {
     "data": {
      "text/html": [
       "<div>\n",
       "<style scoped>\n",
       "    .dataframe tbody tr th:only-of-type {\n",
       "        vertical-align: middle;\n",
       "    }\n",
       "\n",
       "    .dataframe tbody tr th {\n",
       "        vertical-align: top;\n",
       "    }\n",
       "\n",
       "    .dataframe thead th {\n",
       "        text-align: right;\n",
       "    }\n",
       "</style>\n",
       "<table border=\"1\" class=\"dataframe\">\n",
       "  <thead>\n",
       "    <tr style=\"text-align: right;\">\n",
       "      <th></th>\n",
       "      <th>Age</th>\n",
       "      <th>BMI</th>\n",
       "      <th>Chol</th>\n",
       "      <th>TG</th>\n",
       "      <th>HDL</th>\n",
       "      <th>LDL</th>\n",
       "      <th>Cr</th>\n",
       "      <th>BUN</th>\n",
       "      <th>Diagnosis</th>\n",
       "    </tr>\n",
       "  </thead>\n",
       "  <tbody>\n",
       "    <tr>\n",
       "      <th>count</th>\n",
       "      <td>5132.000000</td>\n",
       "      <td>5132.000000</td>\n",
       "      <td>5132.000000</td>\n",
       "      <td>5132.000000</td>\n",
       "      <td>5132.000000</td>\n",
       "      <td>5132.000000</td>\n",
       "      <td>5132.000000</td>\n",
       "      <td>5132.000000</td>\n",
       "      <td>5132.000000</td>\n",
       "    </tr>\n",
       "    <tr>\n",
       "      <th>mean</th>\n",
       "      <td>48.950312</td>\n",
       "      <td>24.613406</td>\n",
       "      <td>4.866882</td>\n",
       "      <td>1.719328</td>\n",
       "      <td>1.593305</td>\n",
       "      <td>2.914121</td>\n",
       "      <td>71.144800</td>\n",
       "      <td>4.896969</td>\n",
       "      <td>0.388348</td>\n",
       "    </tr>\n",
       "    <tr>\n",
       "      <th>std</th>\n",
       "      <td>14.048794</td>\n",
       "      <td>4.277205</td>\n",
       "      <td>1.001052</td>\n",
       "      <td>1.327057</td>\n",
       "      <td>1.038849</td>\n",
       "      <td>0.945423</td>\n",
       "      <td>28.494394</td>\n",
       "      <td>1.689206</td>\n",
       "      <td>0.487422</td>\n",
       "    </tr>\n",
       "    <tr>\n",
       "      <th>min</th>\n",
       "      <td>20.000000</td>\n",
       "      <td>15.000000</td>\n",
       "      <td>0.000000</td>\n",
       "      <td>0.000000</td>\n",
       "      <td>0.000000</td>\n",
       "      <td>0.300000</td>\n",
       "      <td>4.860753</td>\n",
       "      <td>0.500000</td>\n",
       "      <td>0.000000</td>\n",
       "    </tr>\n",
       "    <tr>\n",
       "      <th>25%</th>\n",
       "      <td>36.000000</td>\n",
       "      <td>22.000000</td>\n",
       "      <td>4.190000</td>\n",
       "      <td>0.910000</td>\n",
       "      <td>1.090000</td>\n",
       "      <td>2.290000</td>\n",
       "      <td>58.000000</td>\n",
       "      <td>3.900000</td>\n",
       "      <td>0.000000</td>\n",
       "    </tr>\n",
       "    <tr>\n",
       "      <th>50%</th>\n",
       "      <td>49.000000</td>\n",
       "      <td>24.000000</td>\n",
       "      <td>4.800000</td>\n",
       "      <td>1.380000</td>\n",
       "      <td>1.300000</td>\n",
       "      <td>2.790000</td>\n",
       "      <td>70.200000</td>\n",
       "      <td>4.720000</td>\n",
       "      <td>0.000000</td>\n",
       "    </tr>\n",
       "    <tr>\n",
       "      <th>75%</th>\n",
       "      <td>59.000000</td>\n",
       "      <td>27.000000</td>\n",
       "      <td>5.460000</td>\n",
       "      <td>2.100000</td>\n",
       "      <td>1.590000</td>\n",
       "      <td>3.400000</td>\n",
       "      <td>81.600000</td>\n",
       "      <td>5.600000</td>\n",
       "      <td>1.000000</td>\n",
       "    </tr>\n",
       "    <tr>\n",
       "      <th>max</th>\n",
       "      <td>93.000000</td>\n",
       "      <td>47.000000</td>\n",
       "      <td>11.650000</td>\n",
       "      <td>32.640000</td>\n",
       "      <td>9.900000</td>\n",
       "      <td>9.900000</td>\n",
       "      <td>800.000000</td>\n",
       "      <td>38.900000</td>\n",
       "      <td>1.000000</td>\n",
       "    </tr>\n",
       "  </tbody>\n",
       "</table>\n",
       "</div>"
      ],
      "text/plain": [
       "               Age          BMI         Chol           TG          HDL  \\\n",
       "count  5132.000000  5132.000000  5132.000000  5132.000000  5132.000000   \n",
       "mean     48.950312    24.613406     4.866882     1.719328     1.593305   \n",
       "std      14.048794     4.277205     1.001052     1.327057     1.038849   \n",
       "min      20.000000    15.000000     0.000000     0.000000     0.000000   \n",
       "25%      36.000000    22.000000     4.190000     0.910000     1.090000   \n",
       "50%      49.000000    24.000000     4.800000     1.380000     1.300000   \n",
       "75%      59.000000    27.000000     5.460000     2.100000     1.590000   \n",
       "max      93.000000    47.000000    11.650000    32.640000     9.900000   \n",
       "\n",
       "               LDL           Cr          BUN    Diagnosis  \n",
       "count  5132.000000  5132.000000  5132.000000  5132.000000  \n",
       "mean      2.914121    71.144800     4.896969     0.388348  \n",
       "std       0.945423    28.494394     1.689206     0.487422  \n",
       "min       0.300000     4.860753     0.500000     0.000000  \n",
       "25%       2.290000    58.000000     3.900000     0.000000  \n",
       "50%       2.790000    70.200000     4.720000     0.000000  \n",
       "75%       3.400000    81.600000     5.600000     1.000000  \n",
       "max       9.900000   800.000000    38.900000     1.000000  "
      ]
     },
     "execution_count": 8,
     "metadata": {},
     "output_type": "execute_result"
    }
   ],
   "source": [
    "df.describe()"
   ]
  },
  {
   "cell_type": "markdown",
   "metadata": {},
   "source": [
    "### Convierto la columna 'genre' (categorica a discreta)"
   ]
  },
  {
   "cell_type": "code",
   "execution_count": 9,
   "metadata": {},
   "outputs": [
    {
     "name": "stderr",
     "output_type": "stream",
     "text": [
      "C:\\Users\\USUARIO\\AppData\\Local\\Temp\\ipykernel_17124\\1880109375.py:3: FutureWarning: Downcasting behavior in `replace` is deprecated and will be removed in a future version. To retain the old behavior, explicitly call `result.infer_objects(copy=False)`. To opt-in to the future behavior, set `pd.set_option('future.no_silent_downcasting', True)`\n",
      "  df['Gender'] = df['Gender'].replace(gender_mapping).infer_objects()\n"
     ]
    }
   ],
   "source": [
    "# Hago el mapeado de las etiquetas.\n",
    "gender_mapping = {'M': 0, 'F': 1,'f':1}\n",
    "df['Gender'] = df['Gender'].replace(gender_mapping).infer_objects()"
   ]
  },
  {
   "cell_type": "code",
   "execution_count": 10,
   "metadata": {},
   "outputs": [
    {
     "data": {
      "text/html": [
       "<div>\n",
       "<style scoped>\n",
       "    .dataframe tbody tr th:only-of-type {\n",
       "        vertical-align: middle;\n",
       "    }\n",
       "\n",
       "    .dataframe tbody tr th {\n",
       "        vertical-align: top;\n",
       "    }\n",
       "\n",
       "    .dataframe thead th {\n",
       "        text-align: right;\n",
       "    }\n",
       "</style>\n",
       "<table border=\"1\" class=\"dataframe\">\n",
       "  <thead>\n",
       "    <tr style=\"text-align: right;\">\n",
       "      <th></th>\n",
       "      <th>Age</th>\n",
       "      <th>Gender</th>\n",
       "      <th>BMI</th>\n",
       "      <th>Chol</th>\n",
       "      <th>TG</th>\n",
       "      <th>HDL</th>\n",
       "      <th>LDL</th>\n",
       "      <th>Cr</th>\n",
       "      <th>BUN</th>\n",
       "      <th>Diagnosis</th>\n",
       "    </tr>\n",
       "  </thead>\n",
       "  <tbody>\n",
       "    <tr>\n",
       "      <th>0</th>\n",
       "      <td>50</td>\n",
       "      <td>1</td>\n",
       "      <td>24</td>\n",
       "      <td>4.20</td>\n",
       "      <td>0.90</td>\n",
       "      <td>2.40</td>\n",
       "      <td>1.40</td>\n",
       "      <td>46.0</td>\n",
       "      <td>4.70</td>\n",
       "      <td>0</td>\n",
       "    </tr>\n",
       "    <tr>\n",
       "      <th>1</th>\n",
       "      <td>26</td>\n",
       "      <td>0</td>\n",
       "      <td>23</td>\n",
       "      <td>3.70</td>\n",
       "      <td>1.40</td>\n",
       "      <td>1.10</td>\n",
       "      <td>2.10</td>\n",
       "      <td>62.0</td>\n",
       "      <td>4.50</td>\n",
       "      <td>0</td>\n",
       "    </tr>\n",
       "    <tr>\n",
       "      <th>2</th>\n",
       "      <td>33</td>\n",
       "      <td>0</td>\n",
       "      <td>21</td>\n",
       "      <td>4.90</td>\n",
       "      <td>1.00</td>\n",
       "      <td>0.80</td>\n",
       "      <td>2.00</td>\n",
       "      <td>46.0</td>\n",
       "      <td>7.10</td>\n",
       "      <td>0</td>\n",
       "    </tr>\n",
       "    <tr>\n",
       "      <th>3</th>\n",
       "      <td>45</td>\n",
       "      <td>1</td>\n",
       "      <td>21</td>\n",
       "      <td>2.90</td>\n",
       "      <td>1.00</td>\n",
       "      <td>1.00</td>\n",
       "      <td>1.50</td>\n",
       "      <td>24.0</td>\n",
       "      <td>2.30</td>\n",
       "      <td>0</td>\n",
       "    </tr>\n",
       "    <tr>\n",
       "      <th>4</th>\n",
       "      <td>50</td>\n",
       "      <td>1</td>\n",
       "      <td>24</td>\n",
       "      <td>3.60</td>\n",
       "      <td>1.30</td>\n",
       "      <td>0.90</td>\n",
       "      <td>2.10</td>\n",
       "      <td>50.0</td>\n",
       "      <td>2.00</td>\n",
       "      <td>0</td>\n",
       "    </tr>\n",
       "    <tr>\n",
       "      <th>...</th>\n",
       "      <td>...</td>\n",
       "      <td>...</td>\n",
       "      <td>...</td>\n",
       "      <td>...</td>\n",
       "      <td>...</td>\n",
       "      <td>...</td>\n",
       "      <td>...</td>\n",
       "      <td>...</td>\n",
       "      <td>...</td>\n",
       "      <td>...</td>\n",
       "    </tr>\n",
       "    <tr>\n",
       "      <th>5127</th>\n",
       "      <td>54</td>\n",
       "      <td>0</td>\n",
       "      <td>23</td>\n",
       "      <td>5.00</td>\n",
       "      <td>1.50</td>\n",
       "      <td>1.24</td>\n",
       "      <td>2.98</td>\n",
       "      <td>77.0</td>\n",
       "      <td>3.50</td>\n",
       "      <td>1</td>\n",
       "    </tr>\n",
       "    <tr>\n",
       "      <th>5128</th>\n",
       "      <td>50</td>\n",
       "      <td>1</td>\n",
       "      <td>22</td>\n",
       "      <td>4.37</td>\n",
       "      <td>2.09</td>\n",
       "      <td>1.37</td>\n",
       "      <td>2.29</td>\n",
       "      <td>47.3</td>\n",
       "      <td>4.40</td>\n",
       "      <td>1</td>\n",
       "    </tr>\n",
       "    <tr>\n",
       "      <th>5129</th>\n",
       "      <td>67</td>\n",
       "      <td>0</td>\n",
       "      <td>24</td>\n",
       "      <td>3.89</td>\n",
       "      <td>1.38</td>\n",
       "      <td>1.14</td>\n",
       "      <td>2.17</td>\n",
       "      <td>70.6</td>\n",
       "      <td>4.73</td>\n",
       "      <td>1</td>\n",
       "    </tr>\n",
       "    <tr>\n",
       "      <th>5130</th>\n",
       "      <td>60</td>\n",
       "      <td>1</td>\n",
       "      <td>29</td>\n",
       "      <td>5.91</td>\n",
       "      <td>1.29</td>\n",
       "      <td>1.73</td>\n",
       "      <td>2.85</td>\n",
       "      <td>50.2</td>\n",
       "      <td>7.33</td>\n",
       "      <td>1</td>\n",
       "    </tr>\n",
       "    <tr>\n",
       "      <th>5131</th>\n",
       "      <td>37</td>\n",
       "      <td>0</td>\n",
       "      <td>34</td>\n",
       "      <td>5.42</td>\n",
       "      <td>2.66</td>\n",
       "      <td>1.08</td>\n",
       "      <td>2.87</td>\n",
       "      <td>75.5</td>\n",
       "      <td>4.61</td>\n",
       "      <td>1</td>\n",
       "    </tr>\n",
       "  </tbody>\n",
       "</table>\n",
       "<p>5132 rows × 10 columns</p>\n",
       "</div>"
      ],
      "text/plain": [
       "      Age  Gender  BMI  Chol    TG   HDL   LDL    Cr   BUN  Diagnosis\n",
       "0      50       1   24  4.20  0.90  2.40  1.40  46.0  4.70          0\n",
       "1      26       0   23  3.70  1.40  1.10  2.10  62.0  4.50          0\n",
       "2      33       0   21  4.90  1.00  0.80  2.00  46.0  7.10          0\n",
       "3      45       1   21  2.90  1.00  1.00  1.50  24.0  2.30          0\n",
       "4      50       1   24  3.60  1.30  0.90  2.10  50.0  2.00          0\n",
       "...   ...     ...  ...   ...   ...   ...   ...   ...   ...        ...\n",
       "5127   54       0   23  5.00  1.50  1.24  2.98  77.0  3.50          1\n",
       "5128   50       1   22  4.37  2.09  1.37  2.29  47.3  4.40          1\n",
       "5129   67       0   24  3.89  1.38  1.14  2.17  70.6  4.73          1\n",
       "5130   60       1   29  5.91  1.29  1.73  2.85  50.2  7.33          1\n",
       "5131   37       0   34  5.42  2.66  1.08  2.87  75.5  4.61          1\n",
       "\n",
       "[5132 rows x 10 columns]"
      ]
     },
     "execution_count": 10,
     "metadata": {},
     "output_type": "execute_result"
    }
   ],
   "source": [
    "df"
   ]
  },
  {
   "cell_type": "code",
   "execution_count": 11,
   "metadata": {},
   "outputs": [
    {
     "name": "stdout",
     "output_type": "stream",
     "text": [
      "<class 'pandas.core.frame.DataFrame'>\n",
      "RangeIndex: 5132 entries, 0 to 5131\n",
      "Data columns (total 10 columns):\n",
      " #   Column     Non-Null Count  Dtype  \n",
      "---  ------     --------------  -----  \n",
      " 0   Age        5132 non-null   int64  \n",
      " 1   Gender     5132 non-null   int64  \n",
      " 2   BMI        5132 non-null   int64  \n",
      " 3   Chol       5132 non-null   float64\n",
      " 4   TG         5132 non-null   float64\n",
      " 5   HDL        5132 non-null   float64\n",
      " 6   LDL        5132 non-null   float64\n",
      " 7   Cr         5132 non-null   float64\n",
      " 8   BUN        5132 non-null   float64\n",
      " 9   Diagnosis  5132 non-null   int64  \n",
      "dtypes: float64(6), int64(4)\n",
      "memory usage: 401.1 KB\n"
     ]
    }
   ],
   "source": [
    "df.info()"
   ]
  },
  {
   "cell_type": "code",
   "execution_count": 12,
   "metadata": {},
   "outputs": [],
   "source": [
    "df = df.rename(columns={'Diagnosis':'Diabetes'})"
   ]
  },
  {
   "cell_type": "code",
   "execution_count": 13,
   "metadata": {},
   "outputs": [
    {
     "name": "stdout",
     "output_type": "stream",
     "text": [
      "<class 'pandas.core.frame.DataFrame'>\n",
      "RangeIndex: 5132 entries, 0 to 5131\n",
      "Data columns (total 10 columns):\n",
      " #   Column    Non-Null Count  Dtype  \n",
      "---  ------    --------------  -----  \n",
      " 0   Age       5132 non-null   int64  \n",
      " 1   Gender    5132 non-null   int64  \n",
      " 2   BMI       5132 non-null   int64  \n",
      " 3   Chol      5132 non-null   float64\n",
      " 4   TG        5132 non-null   float64\n",
      " 5   HDL       5132 non-null   float64\n",
      " 6   LDL       5132 non-null   float64\n",
      " 7   Cr        5132 non-null   float64\n",
      " 8   BUN       5132 non-null   float64\n",
      " 9   Diabetes  5132 non-null   int64  \n",
      "dtypes: float64(6), int64(4)\n",
      "memory usage: 401.1 KB\n"
     ]
    }
   ],
   "source": [
    "df.info()"
   ]
  },
  {
   "cell_type": "code",
   "execution_count": 14,
   "metadata": {},
   "outputs": [
    {
     "data": {
      "image/png": "[encoded data removed]",
      "text/plain": [
       "<Figure size 1200x600 with 2 Axes>"
      ]
     },
     "metadata": {},
     "output_type": "display_data"
    }
   ],
   "source": [
    "fig, axs = plt.subplots(1,2, figsize=(12,6), gridspec_kw={'width_ratios':[2,1]})\n",
    "\n",
    "df[df.columns[df.columns != 'Cr']].boxplot(ax=axs[0],flierprops=dict (marker='s', markerfacecolor='red'))\n",
    "df['Cr'].plot(kind='box', ax=axs[1])\n",
    "\n",
    "plt.tight_layout()\n",
    "plt.show()"
   ]
  },
  {
   "cell_type": "code",
   "execution_count": 15,
   "metadata": {},
   "outputs": [],
   "source": [
    "df =df.drop_duplicates()"
   ]
  },
  {
   "cell_type": "code",
   "execution_count": 16,
   "metadata": {},
   "outputs": [
    {
     "data": {
      "text/plain": [
       "(5131, 10)"
      ]
     },
     "execution_count": 16,
     "metadata": {},
     "output_type": "execute_result"
    }
   ],
   "source": [
    "df.shape"
   ]
  },
  {
   "cell_type": "code",
   "execution_count": 17,
   "metadata": {},
   "outputs": [],
   "source": [
    "df = df.dropna()"
   ]
  },
  {
   "cell_type": "code",
   "execution_count": 18,
   "metadata": {},
   "outputs": [
    {
     "data": {
      "text/plain": [
       "(5131, 10)"
      ]
     },
     "execution_count": 18,
     "metadata": {},
     "output_type": "execute_result"
    }
   ],
   "source": [
    "df.shape"
   ]
  },
  {
   "cell_type": "code",
   "execution_count": 19,
   "metadata": {},
   "outputs": [],
   "source": [
    "df['BUN'] = df['BUN'].clip(upper=25)"
   ]
  },
  {
   "cell_type": "code",
   "execution_count": 20,
   "metadata": {},
   "outputs": [],
   "source": [
    "df['TG'] = df['TG'].clip(upper=18)"
   ]
  },
  {
   "cell_type": "code",
   "execution_count": 21,
   "metadata": {},
   "outputs": [],
   "source": [
    "df['Chol'] = df['Chol'].clip(upper=15)"
   ]
  },
  {
   "cell_type": "code",
   "execution_count": 22,
   "metadata": {},
   "outputs": [],
   "source": [
    "df['HDL'] = df['HDL'].clip(upper=15)"
   ]
  },
  {
   "cell_type": "code",
   "execution_count": 23,
   "metadata": {},
   "outputs": [],
   "source": [
    "df['LDL'] = df['LDL'].clip(upper=10)"
   ]
  },
  {
   "cell_type": "code",
   "execution_count": 24,
   "metadata": {},
   "outputs": [],
   "source": [
    "df['BMI'] = df['BMI'].clip(upper=45)"
   ]
  },
  {
   "cell_type": "code",
   "execution_count": 25,
   "metadata": {},
   "outputs": [],
   "source": [
    "df['Cr'] = df['Cr'].clip(upper=250, lower=25)"
   ]
  },
  {
   "cell_type": "code",
   "execution_count": 26,
   "metadata": {},
   "outputs": [
    {
     "data": {
      "text/plain": [
       "(5131, 10)"
      ]
     },
     "execution_count": 26,
     "metadata": {},
     "output_type": "execute_result"
    }
   ],
   "source": [
    "df.shape"
   ]
  },
  {
   "cell_type": "code",
   "execution_count": 27,
   "metadata": {},
   "outputs": [
    {
     "data": {
      "image/png": "[encoded data removed]",
      "text/plain": [
       "<Figure size 1200x600 with 2 Axes>"
      ]
     },
     "metadata": {},
     "output_type": "display_data"
    }
   ],
   "source": [
    "fig, axs = plt.subplots(1,2, figsize=(12,6), gridspec_kw={'width_ratios':[2,1]})\n",
    "\n",
    "df[df.columns[df.columns != 'Cr']].boxplot(ax=axs[0],flierprops=dict (marker='s', markerfacecolor='red'))\n",
    "df['Cr'].plot(kind='box', ax=axs[1])\n",
    "\n",
    "plt.tight_layout()\n",
    "plt.show()"
   ]
  },
  {
   "cell_type": "code",
   "execution_count": 28,
   "metadata": {},
   "outputs": [],
   "source": [
    "matriz_correlacion = df.corr()"
   ]
  },
  {
   "cell_type": "code",
   "execution_count": 29,
   "metadata": {},
   "outputs": [
    {
     "data": {
      "image/png": "[encoded data removed]",
      "text/plain": [
       "<Figure size 800x600 with 2 Axes>"
      ]
     },
     "metadata": {},
     "output_type": "display_data"
    }
   ],
   "source": [
    "plt.figure(figsize=(8, 6))\n",
    "plt.matshow(matriz_correlacion, cmap='coolwarm', fignum=1)\n",
    "plt.colorbar(label='Correlation')\n",
    "plt.xticks(range(len(matriz_correlacion.columns)), matriz_correlacion.columns)\n",
    "plt.yticks(range(len(matriz_correlacion.columns)), matriz_correlacion.columns)\n",
    "plt.title('Correlation Matrix')\n",
    "plt.show()"
   ]
  },
  {
   "cell_type": "code",
   "execution_count": 30,
   "metadata": {},
   "outputs": [
    {
     "data": {
      "text/plain": [
       "Age         False\n",
       "Gender      False\n",
       "BMI         False\n",
       "Chol        False\n",
       "TG          False\n",
       "HDL         False\n",
       "LDL         False\n",
       "Cr          False\n",
       "BUN         False\n",
       "Diabetes    False\n",
       "dtype: bool"
      ]
     },
     "execution_count": 30,
     "metadata": {},
     "output_type": "execute_result"
    }
   ],
   "source": [
    "# Reviso por valores no numericos.\n",
    "df.count().isna()"
   ]
  },
  {
   "cell_type": "markdown",
   "metadata": {},
   "source": [
    "### Ajuste por correlacion de la columna objetivo."
   ]
  },
  {
   "cell_type": "code",
   "execution_count": 31,
   "metadata": {},
   "outputs": [],
   "source": [
    "corMatriz = df.corr()"
   ]
  },
  {
   "cell_type": "code",
   "execution_count": 33,
   "metadata": {},
   "outputs": [
    {
     "data": {
      "text/plain": [
       "Age         0.524555\n",
       "BMI         0.427450\n",
       "Chol        0.131063\n",
       "TG          0.253415\n",
       "HDL         0.309625\n",
       "LDL         0.230566\n",
       "BUN         0.134445\n",
       "Diabetes    1.000000\n",
       "Name: Diabetes, dtype: float64"
      ]
     },
     "execution_count": 33,
     "metadata": {},
     "output_type": "execute_result"
    }
   ],
   "source": [
    "# Correlaciones mayores a 0.1\n",
    "cor_target = abs(corMatriz[\"Diabetes\"])\n",
    "relevant_features = cor_target[cor_target>0.1]\n",
    "relevant_features"
   ]
  },
  {
   "cell_type": "code",
   "execution_count": 34,
   "metadata": {},
   "outputs": [
    {
     "data": {
      "text/plain": [
       "Gender    0.024143\n",
       "Cr        0.073583\n",
       "Name: Diabetes, dtype: float64"
      ]
     },
     "execution_count": 34,
     "metadata": {},
     "output_type": "execute_result"
    }
   ],
   "source": [
    "#Correlaciones menores a 0.1 y qu eclasifican como irrelevantes\n",
    "cor_target = abs(corMatriz[\"Diabetes\"])\n",
    "irrelevant_features = cor_target[cor_target<=0.1]\n",
    "irrelevant_features"
   ]
  },
  {
   "cell_type": "code",
   "execution_count": 35,
   "metadata": {},
   "outputs": [],
   "source": [
    "#Borro las columnas que tiene una correlacion menor a 0.1 del df.\n",
    "df_filtrado = df.drop(columns=irrelevant_features.index)"
   ]
  },
  {
   "cell_type": "code",
   "execution_count": 40,
   "metadata": {},
   "outputs": [],
   "source": [
    "dff =df_filtrado.corr()"
   ]
  },
  {
   "cell_type": "code",
   "execution_count": null,
   "metadata": {},
   "outputs": [],
   "source": []
  },
  {
   "cell_type": "code",
   "execution_count": 41,
   "metadata": {},
   "outputs": [
    {
     "data": {
      "image/png": "[encoded data removed]",
      "text/plain": [
       "<Figure size 1000x800 with 2 Axes>"
      ]
     },
     "metadata": {},
     "output_type": "display_data"
    }
   ],
   "source": [
    "plt.figure(figsize=(10, 8))\n",
    "sns.heatmap(dff, annot=False, cmap='viridis', fmt=\".2f\")\n",
    "\n",
    "plt.title('Matriz de correlación Filtrada')\n",
    "\n",
    "plt.show()"
   ]
  },
  {
   "cell_type": "markdown",
   "metadata": {},
   "source": [
    "### Exporto el modelo\n"
   ]
  },
  {
   "cell_type": "code",
   "execution_count": 43,
   "metadata": {},
   "outputs": [],
   "source": [
    "#Exporto el dataframe como parquet \n",
    "\n",
    "dff.to_parquet(r'dataset/diabetes_ok.parquet', index=False)"
   ]
  }
 ],
 "metadata": {
  "kernelspec": {
   "display_name": ".venv",
   "language": "python",
   "name": "python3"
  },
  "language_info": {
   "codemirror_mode": {
    "name": "ipython",
    "version": 3
   },
   "file_extension": ".py",
   "mimetype": "text/x-python",
   "name": "python",
   "nbconvert_exporter": "python",
   "pygments_lexer": "ipython3",
   "version": "3.11.9"
  }
 },
 "nbformat": 4,
 "nbformat_minor": 2
}
